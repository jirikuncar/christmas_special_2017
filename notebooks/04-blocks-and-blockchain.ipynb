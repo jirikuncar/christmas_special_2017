{
 "cells": [
  {
   "cell_type": "markdown",
   "metadata": {},
   "source": [
    "# Putting it all together\n",
    "\n",
    "Let's build a simple blockchain using all the tools we learnt about."
   ]
  },
  {
   "cell_type": "code",
   "execution_count": 1,
   "metadata": {
    "collapsed": true
   },
   "outputs": [],
   "source": [
    "import json\n",
    "import hashlib\n",
    "from time import time\n",
    "from pprint import pprint"
   ]
  },
  {
   "cell_type": "markdown",
   "metadata": {},
   "source": [
    "To get started we define two transactions to get us rolling and see everything working."
   ]
  },
  {
   "cell_type": "code",
   "execution_count": 2,
   "metadata": {
    "collapsed": true
   },
   "outputs": [],
   "source": [
    "# Two transactions: we send 10 coins from A to B and then 3 from B to C.\n",
    "transaction1 = {'from': \"A's address\",\n",
    "                'to': \"B's address\",\n",
    "                'amount': 10}\n",
    "transaction2 = {'from': \"B's address\",\n",
    "                'to': \"C's address\",\n",
    "                'amount': 3}"
   ]
  },
  {
   "cell_type": "markdown",
   "metadata": {},
   "source": [
    "## Grouping transactions into blocks\n",
    "\n",
    "A new block has a timestamp and links to the previous one via its hash. Otherwise the list of transactions, the hash and nonce are empty. We will set them when we mine the block."
   ]
  },
  {
   "cell_type": "code",
   "execution_count": 3,
   "metadata": {
    "collapsed": true
   },
   "outputs": [],
   "source": [
    "def new_block(previous_block):\n",
    "    if not previous_block['hash']:\n",
    "        raise RuntimeError(\"You need to close a block by mining it before it can be extended\")\n",
    "\n",
    "    block = {'timestamp': time(),\n",
    "             'transactions': [],\n",
    "             'nonce': 0,\n",
    "             'hash': '',\n",
    "             'previous_hash': previous_block['hash']\n",
    "             }\n",
    "    return block"
   ]
  },
  {
   "cell_type": "markdown",
   "metadata": {},
   "source": [
    "There is one special block: the genesis block. So far we avoided talking about how to get your  blockchain started, this is how. The genesis block is similar to the others except it does not refer to a previous one, the `previous_hash` field is empty."
   ]
  },
  {
   "cell_type": "code",
   "execution_count": 4,
   "metadata": {
    "collapsed": true
   },
   "outputs": [],
   "source": [
    "def genesis_block():\n",
    "    return {'timestamp': time(),\n",
    "            'transactions': [],\n",
    "            'nonce': 0,\n",
    "            'hash': '',\n",
    "            'previous_hash': ''\n",
    "            }"
   ]
  },
  {
   "cell_type": "markdown",
   "metadata": {},
   "source": [
    "## Mining a new block\n",
    "\n",
    "Performing the proof-of-work and thereby \"locking\" the transactions in it in place is called mining. Why? Because the node that performs the verification and proof-of-work is rewarded with a coin. The transaction looks a little different from others because it originates from a special source: the network.\n",
    "\n",
    "This is how coins come to exist in our blockchain."
   ]
  },
  {
   "cell_type": "code",
   "execution_count": 5,
   "metadata": {
    "collapsed": true
   },
   "outputs": [],
   "source": [
    "BLOCKCHAIN = []\n",
    "\n",
    "def mine(block, miner):\n",
    "    block['transactions'].append({'from': 'network', 'to': miner, 'amount': 1})\n",
    "    h = ''\n",
    "    while not h.startswith('0000'):\n",
    "        block['nonce'] += 1\n",
    "        block_string = json.dumps(block, sort_keys=True).encode()\n",
    "        h = hashlib.sha256(block_string).hexdigest()\n",
    "\n",
    "    block['hash'] = h\n",
    "    BLOCKCHAIN.append(block)\n",
    "\n",
    "    return block"
   ]
  },
  {
   "cell_type": "markdown",
   "metadata": {},
   "source": [
    "## Building up our chain\n",
    "\n",
    "Let's put these to work: generate the genesis block and then create one new block that contains our two transactions:"
   ]
  },
  {
   "cell_type": "code",
   "execution_count": 6,
   "metadata": {},
   "outputs": [
    {
     "name": "stdout",
     "output_type": "stream",
     "text": [
      "first block:\n",
      "{'hash': '',\n",
      " 'nonce': 0,\n",
      " 'previous_hash': '',\n",
      " 'timestamp': 1513111888.007075,\n",
      " 'transactions': []}\n"
     ]
    }
   ],
   "source": [
    "first_block = genesis_block()\n",
    "print('first block:')\n",
    "pprint(first_block)"
   ]
  },
  {
   "cell_type": "code",
   "execution_count": 7,
   "metadata": {},
   "outputs": [
    {
     "name": "stdout",
     "output_type": "stream",
     "text": [
      "mining the first block...\n",
      "{'hash': '000079923ac2ee4a292f9aec4b5cb6154174e698609dff282b7f7a3cae0d1e2d',\n",
      " 'nonce': 155979,\n",
      " 'previous_hash': '',\n",
      " 'timestamp': 1513111888.007075,\n",
      " 'transactions': [{'amount': 1, 'from': 'network', 'to': 'tim'}]}\n"
     ]
    }
   ],
   "source": [
    "print('mining the first block...')\n",
    "mined_first_block = mine(first_block, miner='tim')\n",
    "pprint(mined_first_block)"
   ]
  },
  {
   "cell_type": "markdown",
   "metadata": {},
   "source": [
    "Next, we create the second block and add our two transactions:"
   ]
  },
  {
   "cell_type": "code",
   "execution_count": 8,
   "metadata": {},
   "outputs": [
    {
     "name": "stdout",
     "output_type": "stream",
     "text": [
      "second block:\n",
      "{'hash': '',\n",
      " 'nonce': 0,\n",
      " 'previous_hash': '000079923ac2ee4a292f9aec4b5cb6154174e698609dff282b7f7a3cae0d1e2d',\n",
      " 'timestamp': 1513111891.667287,\n",
      " 'transactions': [{'amount': 10, 'from': \"A's address\", 'to': \"B's address\"},\n",
      "                  {'amount': 3, 'from': \"B's address\", 'to': \"C's address\"}]}\n"
     ]
    }
   ],
   "source": [
    "second_block = new_block(mined_first_block)\n",
    "second_block['transactions'] = [transaction1, transaction2]\n",
    "print(\"second block:\")\n",
    "pprint(second_block)"
   ]
  },
  {
   "cell_type": "code",
   "execution_count": 9,
   "metadata": {},
   "outputs": [
    {
     "name": "stdout",
     "output_type": "stream",
     "text": [
      "mining the second block...\n",
      "{'hash': '0000ae6399ef4e762875efefb8c8e3dfb319f2722b80faa1dffa901196b28c60',\n",
      " 'nonce': 74571,\n",
      " 'previous_hash': '000079923ac2ee4a292f9aec4b5cb6154174e698609dff282b7f7a3cae0d1e2d',\n",
      " 'timestamp': 1513111891.667287,\n",
      " 'transactions': [{'amount': 10, 'from': \"A's address\", 'to': \"B's address\"},\n",
      "                  {'amount': 3, 'from': \"B's address\", 'to': \"C's address\"},\n",
      "                  {'amount': 1, 'from': 'network', 'to': 'kevin'}]}\n"
     ]
    }
   ],
   "source": [
    "print('mining the second block...')\n",
    "mined_second_block = mine(second_block, miner='kevin')\n",
    "pprint(mined_second_block)"
   ]
  },
  {
   "cell_type": "markdown",
   "metadata": {},
   "source": [
    "## The Blockchain\n",
    "\n",
    "And we can inspect our whole blockchain:"
   ]
  },
  {
   "cell_type": "code",
   "execution_count": 10,
   "metadata": {},
   "outputs": [
    {
     "name": "stdout",
     "output_type": "stream",
     "text": [
      "[{'hash': '000079923ac2ee4a292f9aec4b5cb6154174e698609dff282b7f7a3cae0d1e2d',\n",
      "  'nonce': 155979,\n",
      "  'previous_hash': '',\n",
      "  'timestamp': 1513111888.007075,\n",
      "  'transactions': [{'amount': 1, 'from': 'network', 'to': 'tim'}]},\n",
      " {'hash': '0000ae6399ef4e762875efefb8c8e3dfb319f2722b80faa1dffa901196b28c60',\n",
      "  'nonce': 74571,\n",
      "  'previous_hash': '000079923ac2ee4a292f9aec4b5cb6154174e698609dff282b7f7a3cae0d1e2d',\n",
      "  'timestamp': 1513111891.667287,\n",
      "  'transactions': [{'amount': 10, 'from': \"A's address\", 'to': \"B's address\"},\n",
      "                   {'amount': 3, 'from': \"B's address\", 'to': \"C's address\"},\n",
      "                   {'amount': 1, 'from': 'network', 'to': 'kevin'}]}]\n"
     ]
    }
   ],
   "source": [
    "pprint(BLOCKCHAIN)"
   ]
  },
  {
   "cell_type": "code",
   "execution_count": null,
   "metadata": {
    "collapsed": true
   },
   "outputs": [],
   "source": []
  }
 ],
 "metadata": {
  "kernelspec": {
   "display_name": "Python 3",
   "language": "python",
   "name": "python3"
  },
  "language_info": {
   "codemirror_mode": {
    "name": "ipython",
    "version": 3
   },
   "file_extension": ".py",
   "mimetype": "text/x-python",
   "name": "python",
   "nbconvert_exporter": "python",
   "pygments_lexer": "ipython3",
   "version": "3.6.3"
  }
 },
 "nbformat": 4,
 "nbformat_minor": 2
}
