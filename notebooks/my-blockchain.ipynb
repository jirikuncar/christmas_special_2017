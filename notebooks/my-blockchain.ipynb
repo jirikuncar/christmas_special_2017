{
 "cells": [
  {
   "cell_type": "code",
   "execution_count": 16,
   "metadata": {},
   "outputs": [],
   "source": [
    "import json\n",
    "import hashlib\n",
    "from time import time\n",
    "from pprint import pprint"
   ]
  },
  {
   "cell_type": "code",
   "execution_count": 18,
   "metadata": {},
   "outputs": [],
   "source": [
    "transaction1 = {\n",
    "    'from': 'jiri',\n",
    "    'to': 'nerea',\n",
    "    'amount': 10,\n",
    "}"
   ]
  },
  {
   "cell_type": "code",
   "execution_count": 19,
   "metadata": {},
   "outputs": [],
   "source": [
    "transaction2 = {\n",
    "    'from': 'nerea',\n",
    "    'to': 'jiri',\n",
    "    'amount': 5,\n",
    "}"
   ]
  },
  {
   "cell_type": "code",
   "execution_count": 26,
   "metadata": {},
   "outputs": [],
   "source": [
    "def new_block(previous_block):\n",
    "    if not previous_block['hash']:\n",
    "        raise ValueError(\"You need to close a block by mining it before it can be extended\")\n",
    "\n",
    "    return {\n",
    "        'timestamp': time(),\n",
    "        'transactions': [],\n",
    "        'nonce': 0,\n",
    "        'hash': '',\n",
    "        'previous_hash': previous_block['hash'],\n",
    "    }"
   ]
  },
  {
   "cell_type": "code",
   "execution_count": 27,
   "metadata": {},
   "outputs": [],
   "source": [
    "def genesis_block():\n",
    "    return {\n",
    "        'timestamp': time(),\n",
    "        'transactions': [],\n",
    "        'nonce': 0,\n",
    "        'hash': '',\n",
    "        'previous_hash': '',\n",
    "    }"
   ]
  },
  {
   "cell_type": "code",
   "execution_count": 47,
   "metadata": {},
   "outputs": [],
   "source": [
    "def hash_block(block):\n",
    "    block_string = json.dumps(block, sort_keys=True).encode()\n",
    "    return hashlib.sha256(block_string).hexdigest()"
   ]
  },
  {
   "cell_type": "code",
   "execution_count": 48,
   "metadata": {},
   "outputs": [],
   "source": [
    "def mine(block, miner, size=3):\n",
    "    block = block.copy()\n",
    "    block['transactions'].append({'from': 'network', 'to': miner, 'amount': 1})\n",
    "    h = ''\n",
    "    while not h.startswith('0' * size):\n",
    "        block['nonce'] += 1\n",
    "        h = hash_block(block)\n",
    "\n",
    "    block['hash'] = h\n",
    "    # BLOCKCHAIN.append(block)\n",
    "\n",
    "    return block"
   ]
  },
  {
   "cell_type": "code",
   "execution_count": 50,
   "metadata": {},
   "outputs": [],
   "source": [
    "def check(block):\n",
    "    old_hash = block['hash']\n",
    "    new_block = block.copy()\n",
    "    new_block['hash'] = ''\n",
    "    return old_hash == hash_block(new_block)"
   ]
  },
  {
   "cell_type": "code",
   "execution_count": 40,
   "metadata": {},
   "outputs": [],
   "source": [
    "BLOCKCHAIN = []"
   ]
  },
  {
   "cell_type": "code",
   "execution_count": 41,
   "metadata": {},
   "outputs": [],
   "source": [
    "BLOCKCHAIN.append(mine(genesis_block(), 'jiri'))"
   ]
  },
  {
   "cell_type": "code",
   "execution_count": 42,
   "metadata": {},
   "outputs": [
    {
     "data": {
      "text/plain": [
       "[{'hash': '000d7a26042b4579d06bd34ce855309d84fc32287574ffb5f99329051cf063df',\n",
       "  'nonce': 7267,\n",
       "  'previous_hash': '',\n",
       "  'timestamp': 1513191283.3596768,\n",
       "  'transactions': [{'amount': 1, 'from': 'network', 'to': 'jiri'}]}]"
      ]
     },
     "execution_count": 42,
     "metadata": {},
     "output_type": "execute_result"
    }
   ],
   "source": [
    "BLOCKCHAIN"
   ]
  },
  {
   "cell_type": "code",
   "execution_count": 43,
   "metadata": {},
   "outputs": [
    {
     "data": {
      "text/plain": [
       "{'hash': '',\n",
       " 'nonce': 0,\n",
       " 'previous_hash': '000d7a26042b4579d06bd34ce855309d84fc32287574ffb5f99329051cf063df',\n",
       " 'timestamp': 1513191288.367014,\n",
       " 'transactions': [{'amount': 10, 'from': 'jiri', 'to': 'nerea'},\n",
       "  {'amount': 5, 'from': 'nerea', 'to': 'jiri'}]}"
      ]
     },
     "execution_count": 43,
     "metadata": {},
     "output_type": "execute_result"
    }
   ],
   "source": [
    "block = new_block(BLOCKCHAIN[-1])\n",
    "block['transactions'].extend([transaction1, transaction2])\n",
    "block"
   ]
  },
  {
   "cell_type": "code",
   "execution_count": 44,
   "metadata": {},
   "outputs": [
    {
     "data": {
      "text/plain": [
       "[{'hash': '000d7a26042b4579d06bd34ce855309d84fc32287574ffb5f99329051cf063df',\n",
       "  'nonce': 7267,\n",
       "  'previous_hash': '',\n",
       "  'timestamp': 1513191283.3596768,\n",
       "  'transactions': [{'amount': 1, 'from': 'network', 'to': 'jiri'}]},\n",
       " {'hash': '00080ed367c144f48ded3236b7e92df6de96dcc02af0aacf3f88d4d07c29c072',\n",
       "  'nonce': 10859,\n",
       "  'previous_hash': '000d7a26042b4579d06bd34ce855309d84fc32287574ffb5f99329051cf063df',\n",
       "  'timestamp': 1513191288.367014,\n",
       "  'transactions': [{'amount': 10, 'from': 'jiri', 'to': 'nerea'},\n",
       "   {'amount': 5, 'from': 'nerea', 'to': 'jiri'},\n",
       "   {'amount': 1, 'from': 'network', 'to': 'jiri'}]}]"
      ]
     },
     "execution_count": 44,
     "metadata": {},
     "output_type": "execute_result"
    }
   ],
   "source": [
    "BLOCKCHAIN.append(mine(block, 'jiri'))\n",
    "BLOCKCHAIN"
   ]
  },
  {
   "cell_type": "code",
   "execution_count": 45,
   "metadata": {},
   "outputs": [
    {
     "data": {
      "text/plain": [
       "{'hash': '',\n",
       " 'nonce': 0,\n",
       " 'previous_hash': '00080ed367c144f48ded3236b7e92df6de96dcc02af0aacf3f88d4d07c29c072',\n",
       " 'timestamp': 1513191326.251159,\n",
       " 'transactions': [{'amount': 5, 'from': 'nerea', 'to': 'jiri'},\n",
       "  {'amount': 10, 'from': 'jiri', 'to': 'nerea'}]}"
      ]
     },
     "execution_count": 45,
     "metadata": {},
     "output_type": "execute_result"
    }
   ],
   "source": [
    "block = new_block(BLOCKCHAIN[-1])\n",
    "block['transactions'].extend([transaction2, transaction1])\n",
    "block"
   ]
  },
  {
   "cell_type": "code",
   "execution_count": 46,
   "metadata": {},
   "outputs": [
    {
     "data": {
      "text/plain": [
       "[{'hash': '000d7a26042b4579d06bd34ce855309d84fc32287574ffb5f99329051cf063df',\n",
       "  'nonce': 7267,\n",
       "  'previous_hash': '',\n",
       "  'timestamp': 1513191283.3596768,\n",
       "  'transactions': [{'amount': 1, 'from': 'network', 'to': 'jiri'}]},\n",
       " {'hash': '00080ed367c144f48ded3236b7e92df6de96dcc02af0aacf3f88d4d07c29c072',\n",
       "  'nonce': 10859,\n",
       "  'previous_hash': '000d7a26042b4579d06bd34ce855309d84fc32287574ffb5f99329051cf063df',\n",
       "  'timestamp': 1513191288.367014,\n",
       "  'transactions': [{'amount': 10, 'from': 'jiri', 'to': 'nerea'},\n",
       "   {'amount': 5, 'from': 'nerea', 'to': 'jiri'},\n",
       "   {'amount': 1, 'from': 'network', 'to': 'jiri'}]},\n",
       " {'hash': '000404b5ff3827ba1fc68509b2ae8584a232f17f4e0f008060098b10a437fc8b',\n",
       "  'nonce': 2771,\n",
       "  'previous_hash': '00080ed367c144f48ded3236b7e92df6de96dcc02af0aacf3f88d4d07c29c072',\n",
       "  'timestamp': 1513191326.251159,\n",
       "  'transactions': [{'amount': 5, 'from': 'nerea', 'to': 'jiri'},\n",
       "   {'amount': 10, 'from': 'jiri', 'to': 'nerea'},\n",
       "   {'amount': 1, 'from': 'network', 'to': 'jiri'}]}]"
      ]
     },
     "execution_count": 46,
     "metadata": {},
     "output_type": "execute_result"
    }
   ],
   "source": [
    "BLOCKCHAIN.append(mine(block, 'jiri'))\n",
    "BLOCKCHAIN"
   ]
  },
  {
   "cell_type": "code",
   "execution_count": 53,
   "metadata": {},
   "outputs": [],
   "source": [
    "BLOCKCHAIN[1]['transactions'][0]['amount'] = 10"
   ]
  },
  {
   "cell_type": "code",
   "execution_count": 54,
   "metadata": {},
   "outputs": [
    {
     "name": "stdout",
     "output_type": "stream",
     "text": [
      "True {'timestamp': 1513191283.3596768, 'transactions': [{'from': 'network', 'to': 'jiri', 'amount': 1}], 'nonce': 7267, 'hash': '000d7a26042b4579d06bd34ce855309d84fc32287574ffb5f99329051cf063df', 'previous_hash': ''}\n",
      "True {'timestamp': 1513191288.367014, 'transactions': [{'from': 'jiri', 'to': 'nerea', 'amount': 10}, {'from': 'nerea', 'to': 'jiri', 'amount': 5}, {'from': 'network', 'to': 'jiri', 'amount': 1}], 'nonce': 10859, 'hash': '00080ed367c144f48ded3236b7e92df6de96dcc02af0aacf3f88d4d07c29c072', 'previous_hash': '000d7a26042b4579d06bd34ce855309d84fc32287574ffb5f99329051cf063df'}\n",
      "True {'timestamp': 1513191326.251159, 'transactions': [{'from': 'nerea', 'to': 'jiri', 'amount': 5}, {'from': 'jiri', 'to': 'nerea', 'amount': 10}, {'from': 'network', 'to': 'jiri', 'amount': 1}], 'nonce': 2771, 'hash': '000404b5ff3827ba1fc68509b2ae8584a232f17f4e0f008060098b10a437fc8b', 'previous_hash': '00080ed367c144f48ded3236b7e92df6de96dcc02af0aacf3f88d4d07c29c072'}\n"
     ]
    }
   ],
   "source": [
    "for block in BLOCKCHAIN:\n",
    "    print(check(block), block)"
   ]
  },
  {
   "cell_type": "code",
   "execution_count": null,
   "metadata": {},
   "outputs": [],
   "source": []
  }
 ],
 "metadata": {
  "kernelspec": {
   "display_name": "Python 3",
   "language": "python",
   "name": "python3"
  },
  "language_info": {
   "codemirror_mode": {
    "name": "ipython",
    "version": 3
   },
   "file_extension": ".py",
   "mimetype": "text/x-python",
   "name": "python",
   "nbconvert_exporter": "python",
   "pygments_lexer": "ipython3",
   "version": "3.6.3"
  }
 },
 "nbformat": 4,
 "nbformat_minor": 2
}
